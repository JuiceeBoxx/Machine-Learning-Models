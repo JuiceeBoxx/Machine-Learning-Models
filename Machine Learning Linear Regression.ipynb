{
 "cells": [
  {
   "cell_type": "markdown",
   "metadata": {
    "colab_type": "text",
    "id": "8bQyBOaj8pUp"
   },
   "source": [
    "# Assignment: Linear Regression\n",
    "In this assignment you will implement Linear Regression for a very simple test case. Please fill into the marked places of the code\n",
    "  \n",
    "  (1) the cost function\n",
    "  (2) the update function for Gradient Descent\n",
    "\n",
    "Pieces of code that need to be updated are marked with \"HERE YOU ...\"\n",
    "\n",
    "This assignment is kept very simple on purpose to help you familiarize with Linear Regression and its implementation using python (Jupyter notebooks). Feel free to make some useful tests such as, but not limited to:\n",
    "- What happens if the learning rate is too high or too low?\n",
    "- Can Linear Regression really find the absolute global minimum?\n",
    "- What effect does it have if you change the initial guess for the gradient descent to something completely off?\n",
    "- What happens if you are not updating thet0 and thet1 \"simultaneously\" but you are updating both parameters in separate for loops (see below)?\n",
    "- You can try to turn this code for Linear Regression into an implementation of Logistic Regression"
   ]
  },
  {
   "cell_type": "markdown",
   "metadata": {
    "colab_type": "text",
    "id": "GibImbUt9M4X"
   },
   "source": [
    "## Import the required packages"
   ]
  },
  {
   "cell_type": "code",
   "execution_count": 166,
   "metadata": {
    "colab": {},
    "colab_type": "code",
    "id": "BJqENzQL6_h7"
   },
   "outputs": [],
   "source": [
    "import numpy as np\n",
    "import matplotlib.pyplot as plt\n",
    "from mpl_toolkits.mplot3d import Axes3D "
   ]
  },
  {
   "cell_type": "markdown",
   "metadata": {
    "colab_type": "text",
    "id": "dh6VL5uH9TB8"
   },
   "source": [
    "## Function to calculate the Gradiend descent\n",
    "You may find helpful the use of cost (one of the costFunction output parameters) to debug this method\n",
    "Hint: print(\"Iteration %d | Cost: %f\" % (i, cost))"
   ]
  },
  {
   "cell_type": "code",
   "execution_count": 186,
   "metadata": {
    "colab": {},
    "colab_type": "code",
    "id": "3TDaV-br9agU"
   },
   "outputs": [],
   "source": [
    "def gradientDescent(x, y, theta, alpha, m, maxsteps):\n",
    "    # HERE YOU HAVE TO IMPLEMENT THE UPDATE OF THE PARAMETERS\n",
    "    thetaHist=np.empty([maxsteps, 2])\n",
    "    xTrans = x.transpose()\n",
    "    for i in range(0, maxsteps):\n",
    "        #theta = theta - \n",
    "        thetaHist[i] = theta\n",
    "   \n",
    "    return theta, thetaHist"
   ]
  },
  {
   "cell_type": "markdown",
   "metadata": {
    "colab_type": "text",
    "id": "uuU6OmGcAEFn"
   },
   "source": [
    "## Function to calcultate the cost function\n",
    "The cost function template is returning two parameters, loss and cost. We proposed these two paremeters to facilitate the implementation having not only the cost but also the difference between y and the prediction directly (loss)."
   ]
  },
  {
   "cell_type": "code",
   "execution_count": 187,
   "metadata": {
    "colab": {},
    "colab_type": "code",
    "id": "XqXN74O2AHw3"
   },
   "outputs": [],
   "source": [
    "def costFunction(x, y, theta):\n",
    "    #calculate the hypothesis\n",
    "    hypothesis = x[:,1].dot(theta)\n",
    "    #calculate the error between predicted y value and true y value\n",
    "    loss = np.power(hypothesis-y,2)\n",
    "    #caluclate cost function\n",
    "    cost = 1/(2*len(x)) * np.sum(loss)\n",
    "    return cost, loss"
   ]
  },
  {
   "cell_type": "markdown",
   "metadata": {
    "colab_type": "text",
    "id": "SjmlKvgS9fnl"
   },
   "source": [
    "## Define some training data\n",
    "To test your algorithm it is a good idea to start with very simple test data where you know the right answer. So let's put all data points on a line first. Variables x and y represent a (very simple) training set (a dataset with 9 instances). Feel free to play with this test data or use a more realistic one.\n",
    "\n",
    "$NOTE:$ The column with 1’s included in the variable x is used to facilitate the calculations in the Gradient Descent function (do you remember the x<sub>0</sub> to use the matrix form? If not, revise the lecture)."
   ]
  },
  {
   "cell_type": "code",
   "execution_count": 169,
   "metadata": {
    "colab": {},
    "colab_type": "code",
    "id": "B3TVU7If9jfU"
   },
   "outputs": [],
   "source": [
    "x=np.array([[1, 0], [1, 0.5], [1, 1], [1, 1.5], [1, 2], [1, 2.5], [1, 3], [1, 4], [1, 5]])\n",
    "y=np.array([0, 0.5, 1, 1.5, 2, 2.5, 3, 4, 5])"
   ]
  },
  {
   "cell_type": "markdown",
   "metadata": {
    "colab_type": "text",
    "id": "g8SNNRRf9mad"
   },
   "source": [
    "## Calculate length of training set\n"
   ]
  },
  {
   "cell_type": "code",
   "execution_count": 170,
   "metadata": {
    "colab": {},
    "colab_type": "code",
    "id": "QEvl3FMx9ujU"
   },
   "outputs": [],
   "source": [
    "m, n = np.shape(x)"
   ]
  },
  {
   "cell_type": "markdown",
   "metadata": {
    "colab_type": "text",
    "id": "NfTCyK449w4s"
   },
   "source": [
    "## Plot training set\n"
   ]
  },
  {
   "cell_type": "code",
   "execution_count": 181,
   "metadata": {
    "colab": {},
    "colab_type": "code",
    "id": "9FP6f_l79y7-"
   },
   "outputs": [
    {
     "data": {
      "text/plain": [
       "[<matplotlib.lines.Line2D at 0x23f908101c0>]"
      ]
     },
     "execution_count": 181,
     "metadata": {},
     "output_type": "execute_result"
    },
    {
     "data": {
      "image/png": "[encoded data removed]",
      "text/plain": [
       "<Figure size 640x480 with 1 Axes>"
      ]
     },
     "metadata": {},
     "output_type": "display_data"
    }
   ],
   "source": [
    "fig = plt.figure(1)  # An empty figure with no axes\n",
    "plt.plot(x[:,1], y, 'x')"
   ]
  },
  {
   "cell_type": "markdown",
   "metadata": {
    "colab_type": "text",
    "id": "DHEXm5GT9118"
   },
   "source": [
    "## Cost function\n",
    "Also it is useful for simple test cases to not just run an optimization but first to do a systematic search. So let us first calculate the values of the cost function for different parameters theta\n"
   ]
  },
  {
   "cell_type": "code",
   "execution_count": 184,
   "metadata": {
    "colab": {},
    "colab_type": "code",
    "id": "5qQTbR1G-BQ9"
   },
   "outputs": [
    {
     "name": "stdout",
     "output_type": "stream",
     "text": [
      "[[array([3.20000000e+01, 4.69530792e+01, 2.00000000e+02, 1.15432622e+04,\n",
      "         7.92572000e+05, 2.49766593e+07, 4.35966152e+08, 4.12327346e+10,\n",
      "         1.43051733e+12])\n",
      "  array([6.40000000e+01, 9.09973183e+01, 3.62000000e+02, 1.96923387e+04,\n",
      "         1.34382900e+06, 4.23258071e+07, 7.38736834e+08, 6.98667238e+10,\n",
      "         2.42393296e+12])\n",
      "  array([9.60000000e+01, 1.32299381e+02, 4.90000000e+02, 2.50374865e+04,\n",
      "         1.69746100e+06, 5.34333395e+07, 9.32525826e+08, 8.81926166e+10,\n",
      "         3.05971975e+12])\n",
      "  array([1.28000000e+02, 1.71025932e+02, 5.88000000e+02, 2.81689622e+04,\n",
      "         1.89715800e+06, 5.96851527e+07, 1.04154691e+09, 9.85010624e+10,\n",
      "         3.41735055e+12])\n",
      "  array([1.60000000e+02, 2.07343636e+02, 6.60000000e+02, 2.96770226e+04,\n",
      "         1.98661000e+06, 6.24671428e+07, 1.09001386e+09, 1.03082710e+11,\n",
      "         3.57629822e+12])\n",
      "  array([1.92000000e+02, 2.41419155e+02, 7.10000000e+02, 3.01519244e+04,\n",
      "         2.00950700e+06, 6.31652058e+07, 1.10214046e+09, 1.04228210e+11,\n",
      "         3.61603562e+12])\n",
      "  array([2.24000000e+02, 2.73419155e+02, 7.42000000e+02, 3.01839244e+04,\n",
      "         2.00953900e+06, 6.31652378e+07, 1.10214049e+09, 1.04228210e+11,\n",
      "         3.61603562e+12])\n",
      "  array([2.56000000e+02, 3.03510300e+02, 7.60000000e+02, 3.03632793e+04,\n",
      "         2.03039600e+06, 6.38531349e+07, 1.11422774e+09, 1.05373360e+11,\n",
      "         3.65577108e+12])\n",
      "  array([2.88000000e+02, 3.31859253e+02, 7.68000000e+02, 3.12802460e+04,\n",
      "         2.11576800e+06, 6.66147932e+07, 1.16261597e+09, 1.09954309e+11,\n",
      "         3.81471484e+12])                                               ]\n",
      " [array([3.06000000e+02, 3.61824051e+02, 9.30000000e+02, 4.25878480e+04,\n",
      "         2.90679600e+06, 9.15838141e+07, 1.59855259e+09, 1.51186781e+11,\n",
      "         5.24523071e+12])\n",
      "  array([3.24000000e+02, 3.89378056e+02, 1.05800000e+03, 5.05382078e+04,\n",
      "         3.45676400e+06, 1.08926594e+08, 1.90129865e+09, 1.79820552e+11,\n",
      "         6.23864512e+12])\n",
      "  array([3.42000000e+02, 4.14687931e+02, 1.15600000e+03, 5.57215821e+04,\n",
      "         3.80936200e+06, 1.20029030e+08, 2.09506795e+09, 1.98146270e+11,\n",
      "         6.87443093e+12])\n",
      "  array([3.60000000e+02, 4.37920341e+02, 1.22800000e+03, 5.87282277e+04,\n",
      "         4.00828000e+06, 1.26277017e+08, 2.20407426e+09, 2.08454585e+11,\n",
      "         7.23206099e+12])\n",
      "  array([3.78000000e+02, 4.59241951e+02, 1.27800000e+03, 6.01484014e+04,\n",
      "         4.09720800e+06, 1.29056451e+08, 2.25253136e+09, 2.13036145e+11,\n",
      "         7.39100818e+12])\n",
      "  array([3.96000000e+02, 4.78819424e+02, 1.31000000e+03, 6.05723598e+04,\n",
      "         4.11983600e+06, 1.29753230e+08, 2.26465303e+09, 2.14181601e+11,\n",
      "         7.43074534e+12])\n",
      "  array([4.14000000e+02, 4.96819424e+02, 1.32800000e+03, 6.05903598e+04,\n",
      "         4.11985400e+06, 1.29753248e+08, 2.26465304e+09, 2.14181601e+11,\n",
      "         7.43074534e+12])\n",
      "  array([4.32000000e+02, 5.13408615e+02, 1.33600000e+03, 6.07926581e+04,\n",
      "         4.14095200e+06, 1.30442401e+08, 2.27674519e+09, 2.15326795e+11,\n",
      "         7.47048104e+12])\n",
      "  array([4.50000000e+02, 5.28753662e+02, 1.33800000e+03, 6.17695115e+04,\n",
      "         4.22682000e+06, 1.33206587e+08, 2.32514325e+09, 2.19907831e+11,\n",
      "         7.62942529e+12])                                               ]\n",
      " [array([4.58000000e+02, 5.45730179e+02, 1.46600000e+03, 7.28454533e+04,\n",
      "         5.01630800e+06, 1.58167974e+08, 2.76105034e+09, 2.61140041e+11,\n",
      "         9.05993970e+12])\n",
      "  array([4.66000000e+02, 5.60793949e+02, 1.56400000e+03, 8.06010963e+04,\n",
      "         5.56499100e+06, 1.75504390e+08, 3.06377180e+09, 2.89773593e+11,\n",
      "         1.00533529e+13])\n",
      "  array([4.74000000e+02, 5.74111637e+02, 1.63600000e+03, 8.56266972e+04,\n",
      "         5.91655900e+06, 1.86601733e+08, 3.25752140e+09, 3.08099137e+11,\n",
      "         1.06891377e+13])\n",
      "  array([4.82000000e+02, 5.85849907e+02, 1.68600000e+03, 8.85125127e+04,\n",
      "         6.11470200e+06, 1.92845898e+08, 3.36651294e+09, 3.18407320e+11,\n",
      "         1.10467670e+13])\n",
      "  array([4.90000000e+02, 5.96175423e+02, 1.71800000e+03, 8.98487997e+04,\n",
      "         6.20311000e+06, 1.95622781e+08, 3.41496019e+09, 3.22988794e+11,\n",
      "         1.12057137e+13])\n",
      "  array([4.98000000e+02, 6.05254848e+02, 1.73600000e+03, 9.02258148e+04,\n",
      "         6.22547300e+06, 1.96318278e+08, 3.42707693e+09, 3.24134206e+11,\n",
      "         1.12454507e+13])\n",
      "  array([5.06000000e+02, 6.13254848e+02, 1.74400000e+03, 9.02338148e+04,\n",
      "         6.22548100e+06, 1.96318286e+08, 3.42707694e+09, 3.24134206e+11,\n",
      "         1.12454507e+13])\n",
      "  array([5.14000000e+02, 6.20342087e+02, 1.74600000e+03, 9.04630564e+04,\n",
      "         6.24682400e+06, 1.97008701e+08, 3.43917399e+09, 3.25279443e+11,\n",
      "         1.12851866e+13])\n",
      "  array([5.22000000e+02, 6.26683228e+02, 1.74600000e+03, 9.15037965e+04,\n",
      "         6.33319200e+06, 1.99775418e+08, 3.48758188e+09, 3.29860567e+11,\n",
      "         1.14441313e+13])                                               ]\n",
      " [array([5.24000000e+02, 6.34671463e+02, 1.84400000e+03, 1.02352078e+05,\n",
      "         7.12114400e+06, 2.24729174e+08, 3.92345944e+09, 3.71092515e+11,\n",
      "         1.28746443e+13])\n",
      "  array([5.26000000e+02, 6.41244999e+02, 1.91600000e+03, 1.09917004e+05,\n",
      "         7.66854600e+06, 2.42059231e+08, 4.22615630e+09, 3.99725848e+11,\n",
      "         1.38680563e+13])\n",
      "  array([5.28000000e+02, 6.46570499e+02, 1.96600000e+03, 1.14788832e+05,\n",
      "         8.01908800e+06, 2.53151485e+08, 4.41988622e+09, 4.18051217e+11,\n",
      "         1.45038401e+13])\n",
      "  array([5.30000000e+02, 6.50814629e+02, 1.99800000e+03, 1.17557817e+05,\n",
      "         8.21646000e+06, 2.59391831e+08, 4.52886299e+09, 4.28359270e+11,\n",
      "         1.48614687e+13])\n",
      "  array([5.32000000e+02, 6.54144051e+02, 2.01600000e+03, 1.18814218e+05,\n",
      "         8.30435200e+06, 2.62166167e+08, 4.57730039e+09, 4.32940655e+11,\n",
      "         1.50204149e+13])\n",
      "  array([5.34000000e+02, 6.56725430e+02, 2.02400000e+03, 1.19148289e+05,\n",
      "         8.32645400e+06, 2.62860388e+08, 4.58941220e+09, 4.34086024e+11,\n",
      "         1.50601516e+13])\n",
      "  array([5.36000000e+02, 6.58725430e+02, 2.02600000e+03, 1.19150289e+05,\n",
      "         8.32645600e+06, 2.62860390e+08, 4.58941221e+09, 4.34086024e+11,\n",
      "         1.50601516e+13])\n",
      "  array([5.38000000e+02, 6.60310715e+02, 2.02600000e+03, 1.19410474e+05,\n",
      "         8.34804800e+06, 2.63552069e+08, 4.60151418e+09, 4.35231305e+11,\n",
      "         1.50998878e+13])\n",
      "  array([5.40000000e+02, 6.61647949e+02, 2.02800000e+03, 1.20519101e+05,\n",
      "         8.43492000e+06, 2.66321322e+08, 4.64993190e+09, 4.39812516e+11,\n",
      "         1.52588330e+13])                                               ]\n",
      " [array([5.40000000e+02, 6.64647903e+02, 2.10000000e+03, 1.31143723e+05,\n",
      "         9.22134000e+06, 2.91267451e+08, 5.08577994e+09, 4.81044202e+11,\n",
      "         1.66893445e+13])\n",
      "  array([5.40000000e+02, 6.66731205e+02, 2.15000000e+03, 1.38521932e+05,\n",
      "         9.76746500e+06, 3.08591153e+08, 5.38845219e+09, 5.09677317e+11,\n",
      "         1.76827552e+13])\n",
      "  array([5.40000000e+02, 6.68064518e+02, 2.18200000e+03, 1.43243986e+05,\n",
      "         1.01169850e+07, 3.19678321e+08, 5.58216243e+09, 5.28002511e+11,\n",
      "         1.83185381e+13])\n",
      "  array([5.40000000e+02, 6.68814507e+02, 2.20000000e+03, 1.45900141e+05,\n",
      "         1.03135900e+07, 3.25914854e+08, 5.69112444e+09, 5.38310432e+11,\n",
      "         1.86761660e+13])\n",
      "  array([5.40000000e+02, 6.69147835e+02, 2.20800000e+03, 1.47080655e+05,\n",
      "         1.04009700e+07, 3.28686646e+08, 5.73955200e+09, 5.42891731e+11,\n",
      "         1.88351117e+13])\n",
      "  array([5.40000000e+02, 6.69231167e+02, 2.21000000e+03, 1.47375783e+05,\n",
      "         1.04228150e+07, 3.29379594e+08, 5.75165889e+09, 5.44037055e+11,\n",
      "         1.88748481e+13])\n",
      "  array([5.40000000e+02, 6.69231167e+02, 2.21000000e+03, 1.47375783e+05,\n",
      "         1.04228150e+07, 3.29379594e+08, 5.75165889e+09, 5.44037055e+11,\n",
      "         1.88748481e+13])\n",
      "  array([5.40000000e+02, 6.69314499e+02, 2.21200000e+03, 1.47670912e+05,\n",
      "         1.04446600e+07, 3.30072542e+08, 5.76376578e+09, 5.45182380e+11,\n",
      "         1.89145846e+13])\n",
      "  array([5.40000000e+02, 6.69647827e+02, 2.22000000e+03, 1.48851425e+05,\n",
      "         1.05320400e+07, 3.32844334e+08, 5.81219334e+09, 5.49763678e+11,\n",
      "         1.90735303e+13])                                               ]\n",
      " [array([5.42000000e+02, 6.71659500e+02, 2.27000000e+03, 1.59256387e+05,\n",
      "         1.13169320e+07, 3.57782841e+08, 6.24801186e+09, 5.90995102e+11,\n",
      "         2.05040403e+13])\n",
      "  array([5.44000000e+02, 6.73252567e+02, 2.30200000e+03, 1.66451879e+05,\n",
      "         1.18617840e+07, 3.75100191e+08, 6.55065951e+09, 6.19627999e+11,\n",
      "         2.14974498e+13])\n",
      "  array([5.46000000e+02, 6.74593693e+02, 2.32000000e+03, 1.71028160e+05,\n",
      "         1.22102860e+07, 3.86182279e+08, 6.74435008e+09, 6.37953018e+11,\n",
      "         2.21332317e+13])\n",
      "  array([5.48000000e+02, 6.75849541e+02, 2.32800000e+03, 1.73575485e+05,\n",
      "         1.24061280e+07, 3.92415001e+08, 6.85329733e+09, 6.48260809e+11,\n",
      "         2.24908588e+13])\n",
      "  array([5.50000000e+02, 6.77186775e+02, 2.33000000e+03, 1.74684112e+05,\n",
      "         1.24930000e+07, 3.95184254e+08, 6.90171505e+09, 6.52842020e+11,\n",
      "         2.26498041e+13])\n",
      "  array([5.52000000e+02, 6.78772060e+02, 2.33000000e+03, 1.74944297e+05,\n",
      "         1.25145920e+07, 3.95875933e+08, 6.91381702e+09, 6.53987301e+11,\n",
      "         2.26895403e+13])\n",
      "  array([5.54000000e+02, 6.80772060e+02, 2.33200000e+03, 1.74946297e+05,\n",
      "         1.25145940e+07, 3.95875935e+08, 6.91381702e+09, 6.53987301e+11,\n",
      "         2.26895403e+13])\n",
      "  array([5.56000000e+02, 6.83353439e+02, 2.34000000e+03, 1.75280369e+05,\n",
      "         1.25366960e+07, 3.96570156e+08, 6.92592884e+09, 6.55132669e+11,\n",
      "         2.27292769e+13])\n",
      "  array([5.58000000e+02, 6.86682861e+02, 2.35800000e+03, 1.76536769e+05,\n",
      "         1.26245880e+07, 3.99344491e+08, 6.97436624e+09, 6.59714055e+11,\n",
      "         2.28882231e+13])                                               ]\n",
      " [array([5.66000000e+02, 6.91706253e+02, 2.39000000e+03, 1.86726070e+05,\n",
      "         1.34079560e+07, 4.24275380e+08, 7.41015525e+09, 7.00945217e+11,\n",
      "         2.43187317e+13])\n",
      "  array([5.74000000e+02, 6.96809086e+02, 2.40800000e+03, 1.93742846e+05,\n",
      "         1.39515390e+07, 4.41586382e+08, 7.71277830e+09, 7.29577895e+11,\n",
      "         2.53121400e+13])\n",
      "  array([5.82000000e+02, 7.02158024e+02, 2.41600000e+03, 1.98177353e+05,\n",
      "         1.42990270e+07, 4.52663393e+08, 7.90644919e+09, 7.47902739e+11,\n",
      "         2.59479209e+13])\n",
      "  array([5.90000000e+02, 7.07919731e+02, 2.41800000e+03, 2.00619848e+05,\n",
      "         1.44941100e+07, 4.58892309e+08, 8.01538169e+09, 7.58210399e+11,\n",
      "         2.63055473e+13])\n",
      "  array([5.98000000e+02, 7.14260872e+02, 2.41800000e+03, 2.01660588e+05,\n",
      "         1.45804780e+07, 4.61659026e+08, 8.06378958e+09, 7.62791522e+11,\n",
      "         2.64644921e+13])\n",
      "  array([6.06000000e+02, 7.21348110e+02, 2.42000000e+03, 2.01889830e+05,\n",
      "         1.46018210e+07, 4.62349441e+08, 8.07588664e+09, 7.63936760e+11,\n",
      "         2.65042280e+13])\n",
      "  array([6.14000000e+02, 7.29348110e+02, 2.42800000e+03, 2.01897830e+05,\n",
      "         1.46018290e+07, 4.62349449e+08, 8.07588664e+09, 7.63936760e+11,\n",
      "         2.65042280e+13])\n",
      "  array([6.22000000e+02, 7.38427536e+02, 2.44600000e+03, 2.02274845e+05,\n",
      "         1.46241920e+07, 4.63044946e+08, 8.08800338e+09, 7.65082172e+11,\n",
      "         2.65439649e+13])\n",
      "  array([6.30000000e+02, 7.48753052e+02, 2.47800000e+03, 2.03611132e+05,\n",
      "         1.47126000e+07, 4.65821830e+08, 8.13645063e+09, 7.69663645e+11,\n",
      "         2.67029116e+13])                                               ]\n",
      " [array([6.48000000e+02, 7.60788162e+02, 2.49600000e+03, 2.13588773e+05,\n",
      "         1.54944480e+07, 4.90745104e+08, 8.57221013e+09, 8.10894544e+11,\n",
      "         2.81334187e+13])\n",
      "  array([6.66000000e+02, 7.73400761e+02, 2.50400000e+03, 2.20430832e+05,\n",
      "         1.60367660e+07, 5.08049762e+08, 8.87480860e+09, 8.39527004e+11,\n",
      "         2.91268258e+13])\n",
      "  array([6.84000000e+02, 7.86757511e+02, 2.50600000e+03, 2.24727566e+05,\n",
      "         1.63832440e+07, 5.19121700e+08, 9.06845981e+09, 8.57851674e+11,\n",
      "         2.97626057e+13])\n",
      "  array([7.02000000e+02, 8.01025078e+02, 2.50600000e+03, 2.27069231e+05,\n",
      "         1.65775720e+07, 5.25346814e+08, 9.17737756e+09, 8.68159202e+11,\n",
      "         3.01202314e+13])\n",
      "  array([7.20000000e+02, 8.16370125e+02, 2.50800000e+03, 2.28046084e+05,\n",
      "         1.66634400e+07, 5.28111000e+08, 9.22577562e+09, 8.72740239e+11,\n",
      "         3.02791757e+13])\n",
      "  array([7.38000000e+02, 8.32959316e+02, 2.51600000e+03, 2.28248383e+05,\n",
      "         1.66845380e+07, 5.28800154e+08, 9.23786777e+09, 8.73885432e+11,\n",
      "         3.03189114e+13])\n",
      "  array([7.56000000e+02, 8.50959316e+02, 2.53400000e+03, 2.28266383e+05,\n",
      "         1.66845560e+07, 5.28800172e+08, 9.23786779e+09, 8.73885432e+11,\n",
      "         3.03189114e+13])\n",
      "  array([7.74000000e+02, 8.70536789e+02, 2.56600000e+03, 2.28690341e+05,\n",
      "         1.67071840e+07, 5.29496950e+08, 9.24998945e+09, 8.75030888e+11,\n",
      "         3.03586485e+13])\n",
      "  array([7.92000000e+02, 8.91858398e+02, 2.61600000e+03, 2.30110515e+05,\n",
      "         1.67961120e+07, 5.32276385e+08, 9.29844655e+09, 8.79612448e+11,\n",
      "         3.05175957e+13])                                               ]\n",
      " [array([8.24000000e+02, 9.14905228e+02, 2.62400000e+03, 2.39880496e+05,\n",
      "         1.75764440e+07, 5.57192049e+08, 9.73417654e+09, 9.20843086e+11,\n",
      "         3.19481013e+13])\n",
      "  array([8.56000000e+02, 9.39027592e+02, 2.62600000e+03, 2.46551838e+05,\n",
      "         1.81175010e+07, 5.74490367e+08, 1.00367504e+10, 9.49475328e+11,\n",
      "         3.29415072e+13])\n",
      "  array([8.88000000e+02, 9.64392155e+02, 2.62600000e+03, 2.50714798e+05,\n",
      "         1.84629730e+07, 5.85557236e+08, 1.02303820e+10, 9.67799822e+11,\n",
      "         3.35772862e+13])\n",
      "  array([9.20000000e+02, 9.91165581e+02, 2.62800000e+03, 2.52959633e+05,\n",
      "         1.86565500e+07, 5.91778552e+08, 1.03392850e+10, 9.78107220e+11,\n",
      "         3.39349111e+13])\n",
      "  array([9.52000000e+02, 1.01951453e+03, 2.63600000e+03, 2.53876600e+05,\n",
      "         1.87419220e+07, 5.94540210e+08, 1.03876732e+10, 9.82688169e+11,\n",
      "         3.40938549e+13])\n",
      "  array([9.84000000e+02, 1.04960568e+03, 2.65400000e+03, 2.54055955e+05,\n",
      "         1.87627790e+07, 5.95228107e+08, 1.03997605e+10, 9.83833318e+11,\n",
      "         3.41335903e+13])\n",
      "  array([1.01600000e+03, 1.08160568e+03, 2.68600000e+03, 2.54087955e+05,\n",
      "         1.87628110e+07, 5.95228139e+08, 1.03997605e+10, 9.83833318e+11,\n",
      "         3.41335903e+13])\n",
      "  array([1.04800000e+03, 1.11568120e+03, 2.73600000e+03, 2.54562856e+05,\n",
      "         1.87857080e+07, 5.95926202e+08, 1.04118871e+10, 9.84978818e+11,\n",
      "         3.41733277e+13])\n",
      "  array([1.08000000e+03, 1.15199890e+03, 2.80800000e+03, 2.56070917e+05,\n",
      "         1.88751600e+07, 5.98708192e+08, 1.04603540e+10, 9.89560466e+11,\n",
      "         3.43322754e+13])                                               ]]\n"
     ]
    }
   ],
   "source": [
    "theta0 = np.arange(-2, 2.01, 0.5)\n",
    "theta1 = np.arange(-2, 2.01, 0.5)\n",
    "J = np.ndarray(shape=([len(theta0), len(theta1)]), dtype=object)\n",
    "totalCost = 0\n",
    "# Calculate values of the cost function\n",
    "for i in range(0, len(theta0)):  \n",
    "    for j in range(0, len(theta1)):\n",
    "        # HERE YOU HAVE TO ADD THE COST FUNCTION FROM THE LECTURE\n",
    "        #firstly we calculate the constant\n",
    "        constant = 1/(2*len(x))\n",
    "        #summation for loop i=1 to m \n",
    "        for m in range(1, len(x)):\n",
    "            #calculate the hypothesis\n",
    "            hypothesis = theta0[i] + theta1[j] * np.power(x[:,1], m)\n",
    "            #calculate the error between the hypothesis and true Y\n",
    "            cost = np.power((hypothesis-np.power(y, m)),2)\n",
    "            #summing the cost manually\n",
    "            totalCost = totalCost + cost\n",
    "            \n",
    "        #save the summed cost\n",
    "        J[i, j] = totalCost\n",
    "        \n",
    "        "
   ]
  },
  {
   "cell_type": "markdown",
   "metadata": {
    "colab_type": "text",
    "id": "dRWnwwK2-M5c"
   },
   "source": [
    "## Visualize the cost function\n",
    "Let us do some test plots to see the cost function J and to analyze how it depends on the parameters theta0 and theta1\n"
   ]
  },
  {
   "cell_type": "code",
   "execution_count": 173,
   "metadata": {
    "colab": {},
    "colab_type": "code",
    "id": "lSVXIfYp-Tnz"
   },
   "outputs": [
    {
     "ename": "ValueError",
     "evalue": "setting an array element with a sequence.",
     "output_type": "error",
     "traceback": [
      "\u001b[1;31m---------------------------------------------------------------------------\u001b[0m",
      "\u001b[1;31mTypeError\u001b[0m                                 Traceback (most recent call last)",
      "\u001b[1;31mTypeError\u001b[0m: only size-1 arrays can be converted to Python scalars",
      "\nThe above exception was the direct cause of the following exception:\n",
      "\u001b[1;31mValueError\u001b[0m                                Traceback (most recent call last)",
      "Cell \u001b[1;32mIn [173], line 4\u001b[0m\n\u001b[0;32m      2\u001b[0m fig2 \u001b[39m=\u001b[39m plt\u001b[39m.\u001b[39mfigure(\u001b[39m2\u001b[39m)\n\u001b[0;32m      3\u001b[0m ax \u001b[39m=\u001b[39m fig2\u001b[39m.\u001b[39madd_subplot(\u001b[39m121\u001b[39m, projection\u001b[39m=\u001b[39m\u001b[39m\"\u001b[39m\u001b[39m3d\u001b[39m\u001b[39m\"\u001b[39m)\n\u001b[1;32m----> 4\u001b[0m surf \u001b[39m=\u001b[39m ax\u001b[39m.\u001b[39;49mplot_surface(theta0, theta1, np\u001b[39m.\u001b[39;49mtranspose(J))\n\u001b[0;32m      5\u001b[0m ax\u001b[39m.\u001b[39mset_xlabel(\u001b[39m'\u001b[39m\u001b[39mtheta 0\u001b[39m\u001b[39m'\u001b[39m)\n\u001b[0;32m      6\u001b[0m ax\u001b[39m.\u001b[39mset_ylabel(\u001b[39m'\u001b[39m\u001b[39mtheta 1\u001b[39m\u001b[39m'\u001b[39m)\n",
      "File \u001b[1;32mc:\\Users\\Fred\\AppData\\Local\\Programs\\Python\\Python310\\lib\\site-packages\\mpl_toolkits\\mplot3d\\axes3d.py:1383\u001b[0m, in \u001b[0;36mAxes3D.plot_surface\u001b[1;34m(self, X, Y, Z, norm, vmin, vmax, lightsource, **kwargs)\u001b[0m\n\u001b[0;32m   1380\u001b[0m \u001b[39mif\u001b[39;00m Z\u001b[39m.\u001b[39mndim \u001b[39m!=\u001b[39m \u001b[39m2\u001b[39m:\n\u001b[0;32m   1381\u001b[0m     \u001b[39mraise\u001b[39;00m \u001b[39mValueError\u001b[39;00m(\u001b[39m\"\u001b[39m\u001b[39mArgument Z must be 2-dimensional.\u001b[39m\u001b[39m\"\u001b[39m)\n\u001b[1;32m-> 1383\u001b[0m Z \u001b[39m=\u001b[39m cbook\u001b[39m.\u001b[39;49m_to_unmasked_float_array(Z)\n\u001b[0;32m   1384\u001b[0m X, Y, Z \u001b[39m=\u001b[39m np\u001b[39m.\u001b[39mbroadcast_arrays(X, Y, Z)\n\u001b[0;32m   1385\u001b[0m rows, cols \u001b[39m=\u001b[39m Z\u001b[39m.\u001b[39mshape\n",
      "File \u001b[1;32mc:\\Users\\Fred\\AppData\\Local\\Programs\\Python\\Python310\\lib\\site-packages\\matplotlib\\cbook\\__init__.py:1369\u001b[0m, in \u001b[0;36m_to_unmasked_float_array\u001b[1;34m(x)\u001b[0m\n\u001b[0;32m   1367\u001b[0m     \u001b[39mreturn\u001b[39;00m np\u001b[39m.\u001b[39mma\u001b[39m.\u001b[39masarray(x, \u001b[39mfloat\u001b[39m)\u001b[39m.\u001b[39mfilled(np\u001b[39m.\u001b[39mnan)\n\u001b[0;32m   1368\u001b[0m \u001b[39melse\u001b[39;00m:\n\u001b[1;32m-> 1369\u001b[0m     \u001b[39mreturn\u001b[39;00m np\u001b[39m.\u001b[39;49masarray(x, \u001b[39mfloat\u001b[39;49m)\n",
      "\u001b[1;31mValueError\u001b[0m: setting an array element with a sequence."
     ]
    },
    {
     "data": {
      "image/png": "[encoded data removed]",
      "text/plain": [
       "<Figure size 640x480 with 1 Axes>"
      ]
     },
     "metadata": {},
     "output_type": "display_data"
    }
   ],
   "source": [
    "theta0, theta1 = np.meshgrid(theta0, theta1)\n",
    "fig2 = plt.figure(2)\n",
    "ax = fig2.add_subplot(121, projection=\"3d\")\n",
    "surf = ax.plot_surface(theta0, theta1, np.transpose(J))\n",
    "ax.set_xlabel('theta 0')\n",
    "ax.set_ylabel('theta 1')\n",
    "ax.set_zlabel('Cost J')\n",
    "ax.set_title('Cost function Surface plot')\n",
    "\n",
    "ax = fig2.add_subplot(122)\n",
    "contour = ax.contour(theta0, theta1, np.transpose(J))\n",
    "ax.set_xlabel('theta 0')\n",
    "ax.set_ylabel('theta 1')\n",
    "ax.set_title('Cost function Contour plot')\n",
    "\n",
    "fig2.subplots_adjust(bottom=0.1, right=1.5, top=0.9)"
   ]
  },
  {
   "cell_type": "markdown",
   "metadata": {
    "colab_type": "text",
    "id": "p4FGqgkt-XjE"
   },
   "source": [
    "## Gradient descent implementation\n",
    "Here we implement Gradient Descent\n"
   ]
  },
  {
   "cell_type": "code",
   "execution_count": 176,
   "metadata": {
    "colab": {},
    "colab_type": "code",
    "id": "TGofDHGV-dRk"
   },
   "outputs": [],
   "source": [
    "alpha = 0.05        # learning parameter\n",
    "maxsteps= 1000      # number of iterations that the algorithm is running\n",
    "\n",
    "# First estimates for our parameters\n",
    "thet = [2, 0]\n",
    "\n",
    "thet, thetaHist = gradientDescent(x, y, thet, alpha, m, maxsteps)"
   ]
  },
  {
   "cell_type": "markdown",
   "metadata": {
    "colab_type": "text",
    "id": "XpNMnPCx-sZe"
   },
   "source": [
    "## Print found optimal values\n",
    "\n"
   ]
  },
  {
   "cell_type": "code",
   "execution_count": 174,
   "metadata": {
    "colab": {},
    "colab_type": "code",
    "id": "EAPuTHlM-urX"
   },
   "outputs": [
    {
     "name": "stdout",
     "output_type": "stream",
     "text": [
      "Optimized Theta0 is  2\n",
      "Optimized Theta1 is  0\n"
     ]
    }
   ],
   "source": [
    "print(\"Optimized Theta0 is \", thet[0])\n",
    "print(\"Optimized Theta1 is \", thet[1])"
   ]
  },
  {
   "cell_type": "markdown",
   "metadata": {
    "colab_type": "text",
    "id": "MXmsqwP--v5k"
   },
   "source": [
    "## Visualization of the solution\n",
    "Now let's plot the found solutions of the Gradient Descent algorithms on the contour plot of our cost function to see how it approaches the desired minimum.\n"
   ]
  },
  {
   "cell_type": "code",
   "execution_count": 175,
   "metadata": {
    "colab": {
     "base_uri": "https://localhost:8080/",
     "height": 0
    },
    "colab_type": "code",
    "executionInfo": {
     "elapsed": 566,
     "status": "error",
     "timestamp": 1594188267487,
     "user": {
      "displayName": "Enrique Hortal Quesada",
      "photoUrl": "",
      "userId": "12024213593623682680"
     },
     "user_tz": -120
    },
    "id": "7HAhC2Kw-0w0",
    "outputId": "d7bef4a7-31cf-4697-d850-a8e8f439859a"
   },
   "outputs": [
    {
     "ename": "ValueError",
     "evalue": "setting an array element with a sequence.",
     "output_type": "error",
     "traceback": [
      "\u001b[1;31m---------------------------------------------------------------------------\u001b[0m",
      "\u001b[1;31mTypeError\u001b[0m                                 Traceback (most recent call last)",
      "\u001b[1;31mTypeError\u001b[0m: only size-1 arrays can be converted to Python scalars",
      "\nThe above exception was the direct cause of the following exception:\n",
      "\u001b[1;31mValueError\u001b[0m                                Traceback (most recent call last)",
      "Cell \u001b[1;32mIn [175], line 2\u001b[0m\n\u001b[0;32m      1\u001b[0m fig3 \u001b[39m=\u001b[39m plt\u001b[39m.\u001b[39mfigure(\u001b[39m3\u001b[39m)\n\u001b[1;32m----> 2\u001b[0m plt\u001b[39m.\u001b[39;49mcontour(theta0, theta1, np\u001b[39m.\u001b[39;49mtranspose(J))\n\u001b[0;32m      3\u001b[0m plt\u001b[39m.\u001b[39mplot(thetaHist[:,\u001b[39m0\u001b[39m], thetaHist[:,\u001b[39m1\u001b[39m], \u001b[39m'\u001b[39m\u001b[39mx\u001b[39m\u001b[39m'\u001b[39m)\n\u001b[0;32m      4\u001b[0m ax\u001b[39m.\u001b[39mset_xlabel(\u001b[39m'\u001b[39m\u001b[39mtheta 0\u001b[39m\u001b[39m'\u001b[39m)\n",
      "File \u001b[1;32mc:\\Users\\Fred\\AppData\\Local\\Programs\\Python\\Python310\\lib\\site-packages\\matplotlib\\pyplot.py:2455\u001b[0m, in \u001b[0;36mcontour\u001b[1;34m(data, *args, **kwargs)\u001b[0m\n\u001b[0;32m   2453\u001b[0m \u001b[39m@_copy_docstring_and_deprecators\u001b[39m(Axes\u001b[39m.\u001b[39mcontour)\n\u001b[0;32m   2454\u001b[0m \u001b[39mdef\u001b[39;00m \u001b[39mcontour\u001b[39m(\u001b[39m*\u001b[39margs, data\u001b[39m=\u001b[39m\u001b[39mNone\u001b[39;00m, \u001b[39m*\u001b[39m\u001b[39m*\u001b[39mkwargs):\n\u001b[1;32m-> 2455\u001b[0m     __ret \u001b[39m=\u001b[39m gca()\u001b[39m.\u001b[39mcontour(\n\u001b[0;32m   2456\u001b[0m         \u001b[39m*\u001b[39margs, \u001b[39m*\u001b[39m\u001b[39m*\u001b[39m({\u001b[39m\"\u001b[39m\u001b[39mdata\u001b[39m\u001b[39m\"\u001b[39m: data} \u001b[39mif\u001b[39;00m data \u001b[39mis\u001b[39;00m \u001b[39mnot\u001b[39;00m \u001b[39mNone\u001b[39;00m \u001b[39melse\u001b[39;00m {}),\n\u001b[0;32m   2457\u001b[0m         \u001b[39m*\u001b[39m\u001b[39m*\u001b[39mkwargs)\n\u001b[0;32m   2458\u001b[0m     \u001b[39mif\u001b[39;00m __ret\u001b[39m.\u001b[39m_A \u001b[39mis\u001b[39;00m \u001b[39mnot\u001b[39;00m \u001b[39mNone\u001b[39;00m: sci(__ret)  \u001b[39m# noqa\u001b[39;00m\n\u001b[0;32m   2459\u001b[0m     \u001b[39mreturn\u001b[39;00m __ret\n",
      "File \u001b[1;32mc:\\Users\\Fred\\AppData\\Local\\Programs\\Python\\Python310\\lib\\site-packages\\matplotlib\\__init__.py:1423\u001b[0m, in \u001b[0;36m_preprocess_data.<locals>.inner\u001b[1;34m(ax, data, *args, **kwargs)\u001b[0m\n\u001b[0;32m   1420\u001b[0m \u001b[39m@functools\u001b[39m\u001b[39m.\u001b[39mwraps(func)\n\u001b[0;32m   1421\u001b[0m \u001b[39mdef\u001b[39;00m \u001b[39minner\u001b[39m(ax, \u001b[39m*\u001b[39margs, data\u001b[39m=\u001b[39m\u001b[39mNone\u001b[39;00m, \u001b[39m*\u001b[39m\u001b[39m*\u001b[39mkwargs):\n\u001b[0;32m   1422\u001b[0m     \u001b[39mif\u001b[39;00m data \u001b[39mis\u001b[39;00m \u001b[39mNone\u001b[39;00m:\n\u001b[1;32m-> 1423\u001b[0m         \u001b[39mreturn\u001b[39;00m func(ax, \u001b[39m*\u001b[39m\u001b[39mmap\u001b[39m(sanitize_sequence, args), \u001b[39m*\u001b[39m\u001b[39m*\u001b[39mkwargs)\n\u001b[0;32m   1425\u001b[0m     bound \u001b[39m=\u001b[39m new_sig\u001b[39m.\u001b[39mbind(ax, \u001b[39m*\u001b[39margs, \u001b[39m*\u001b[39m\u001b[39m*\u001b[39mkwargs)\n\u001b[0;32m   1426\u001b[0m     auto_label \u001b[39m=\u001b[39m (bound\u001b[39m.\u001b[39marguments\u001b[39m.\u001b[39mget(label_namer)\n\u001b[0;32m   1427\u001b[0m                   \u001b[39mor\u001b[39;00m bound\u001b[39m.\u001b[39mkwargs\u001b[39m.\u001b[39mget(label_namer))\n",
      "File \u001b[1;32mc:\\Users\\Fred\\AppData\\Local\\Programs\\Python\\Python310\\lib\\site-packages\\matplotlib\\axes\\_axes.py:6398\u001b[0m, in \u001b[0;36mAxes.contour\u001b[1;34m(self, *args, **kwargs)\u001b[0m\n\u001b[0;32m   6389\u001b[0m \u001b[39m\"\"\"\u001b[39;00m\n\u001b[0;32m   6390\u001b[0m \u001b[39mPlot contour lines.\u001b[39;00m\n\u001b[0;32m   6391\u001b[0m \n\u001b[1;32m   (...)\u001b[0m\n\u001b[0;32m   6395\u001b[0m \u001b[39m%(contour_doc)s\u001b[39;00m\n\u001b[0;32m   6396\u001b[0m \u001b[39m\"\"\"\u001b[39;00m\n\u001b[0;32m   6397\u001b[0m kwargs[\u001b[39m'\u001b[39m\u001b[39mfilled\u001b[39m\u001b[39m'\u001b[39m] \u001b[39m=\u001b[39m \u001b[39mFalse\u001b[39;00m\n\u001b[1;32m-> 6398\u001b[0m contours \u001b[39m=\u001b[39m mcontour\u001b[39m.\u001b[39mQuadContourSet(\u001b[39mself\u001b[39m, \u001b[39m*\u001b[39margs, \u001b[39m*\u001b[39m\u001b[39m*\u001b[39mkwargs)\n\u001b[0;32m   6399\u001b[0m \u001b[39mself\u001b[39m\u001b[39m.\u001b[39m_request_autoscale_view()\n\u001b[0;32m   6400\u001b[0m \u001b[39mreturn\u001b[39;00m contours\n",
      "File \u001b[1;32mc:\\Users\\Fred\\AppData\\Local\\Programs\\Python\\Python310\\lib\\site-packages\\matplotlib\\contour.py:794\u001b[0m, in \u001b[0;36mContourSet.__init__\u001b[1;34m(self, ax, levels, filled, linewidths, linestyles, hatches, alpha, origin, extent, cmap, colors, norm, vmin, vmax, extend, antialiased, nchunk, locator, transform, negative_linestyles, *args, **kwargs)\u001b[0m\n\u001b[0;32m    790\u001b[0m \u001b[39mif\u001b[39;00m \u001b[39mself\u001b[39m\u001b[39m.\u001b[39mnegative_linestyles \u001b[39mis\u001b[39;00m \u001b[39mNone\u001b[39;00m:\n\u001b[0;32m    791\u001b[0m     \u001b[39mself\u001b[39m\u001b[39m.\u001b[39mnegative_linestyles \u001b[39m=\u001b[39m \\\n\u001b[0;32m    792\u001b[0m         mpl\u001b[39m.\u001b[39mrcParams[\u001b[39m'\u001b[39m\u001b[39mcontour.negative_linestyle\u001b[39m\u001b[39m'\u001b[39m]\n\u001b[1;32m--> 794\u001b[0m kwargs \u001b[39m=\u001b[39m \u001b[39mself\u001b[39m\u001b[39m.\u001b[39m_process_args(\u001b[39m*\u001b[39margs, \u001b[39m*\u001b[39m\u001b[39m*\u001b[39mkwargs)\n\u001b[0;32m    795\u001b[0m \u001b[39mself\u001b[39m\u001b[39m.\u001b[39m_process_levels()\n\u001b[0;32m    797\u001b[0m \u001b[39mself\u001b[39m\u001b[39m.\u001b[39m_extend_min \u001b[39m=\u001b[39m \u001b[39mself\u001b[39m\u001b[39m.\u001b[39mextend \u001b[39min\u001b[39;00m [\u001b[39m'\u001b[39m\u001b[39mmin\u001b[39m\u001b[39m'\u001b[39m, \u001b[39m'\u001b[39m\u001b[39mboth\u001b[39m\u001b[39m'\u001b[39m]\n",
      "File \u001b[1;32mc:\\Users\\Fred\\AppData\\Local\\Programs\\Python\\Python310\\lib\\site-packages\\matplotlib\\contour.py:1435\u001b[0m, in \u001b[0;36mQuadContourSet._process_args\u001b[1;34m(self, corner_mask, algorithm, *args, **kwargs)\u001b[0m\n\u001b[0;32m   1432\u001b[0m         corner_mask \u001b[39m=\u001b[39m mpl\u001b[39m.\u001b[39mrcParams[\u001b[39m'\u001b[39m\u001b[39mcontour.corner_mask\u001b[39m\u001b[39m'\u001b[39m]\n\u001b[0;32m   1433\u001b[0m \u001b[39mself\u001b[39m\u001b[39m.\u001b[39m_corner_mask \u001b[39m=\u001b[39m corner_mask\n\u001b[1;32m-> 1435\u001b[0m x, y, z \u001b[39m=\u001b[39m \u001b[39mself\u001b[39;49m\u001b[39m.\u001b[39;49m_contour_args(args, kwargs)\n\u001b[0;32m   1437\u001b[0m contour_generator \u001b[39m=\u001b[39m contourpy\u001b[39m.\u001b[39mcontour_generator(\n\u001b[0;32m   1438\u001b[0m     x, y, z, name\u001b[39m=\u001b[39m\u001b[39mself\u001b[39m\u001b[39m.\u001b[39m_algorithm, corner_mask\u001b[39m=\u001b[39m\u001b[39mself\u001b[39m\u001b[39m.\u001b[39m_corner_mask,\n\u001b[0;32m   1439\u001b[0m     line_type\u001b[39m=\u001b[39mcontourpy\u001b[39m.\u001b[39mLineType\u001b[39m.\u001b[39mSeparateCode,\n\u001b[0;32m   1440\u001b[0m     fill_type\u001b[39m=\u001b[39mcontourpy\u001b[39m.\u001b[39mFillType\u001b[39m.\u001b[39mOuterCode,\n\u001b[0;32m   1441\u001b[0m     chunk_size\u001b[39m=\u001b[39m\u001b[39mself\u001b[39m\u001b[39m.\u001b[39mnchunk)\n\u001b[0;32m   1443\u001b[0m t \u001b[39m=\u001b[39m \u001b[39mself\u001b[39m\u001b[39m.\u001b[39mget_transform()\n",
      "File \u001b[1;32mc:\\Users\\Fred\\AppData\\Local\\Programs\\Python\\Python310\\lib\\site-packages\\matplotlib\\contour.py:1473\u001b[0m, in \u001b[0;36mQuadContourSet._contour_args\u001b[1;34m(self, args, kwargs)\u001b[0m\n\u001b[0;32m   1471\u001b[0m     args \u001b[39m=\u001b[39m args[\u001b[39m1\u001b[39m:]\n\u001b[0;32m   1472\u001b[0m \u001b[39melif\u001b[39;00m Nargs \u001b[39m<\u001b[39m\u001b[39m=\u001b[39m \u001b[39m4\u001b[39m:\n\u001b[1;32m-> 1473\u001b[0m     x, y, z \u001b[39m=\u001b[39m \u001b[39mself\u001b[39;49m\u001b[39m.\u001b[39;49m_check_xyz(args[:\u001b[39m3\u001b[39;49m], kwargs)\n\u001b[0;32m   1474\u001b[0m     args \u001b[39m=\u001b[39m args[\u001b[39m3\u001b[39m:]\n\u001b[0;32m   1475\u001b[0m \u001b[39melse\u001b[39;00m:\n",
      "File \u001b[1;32mc:\\Users\\Fred\\AppData\\Local\\Programs\\Python\\Python310\\lib\\site-packages\\matplotlib\\contour.py:1498\u001b[0m, in \u001b[0;36mQuadContourSet._check_xyz\u001b[1;34m(self, args, kwargs)\u001b[0m\n\u001b[0;32m   1496\u001b[0m x \u001b[39m=\u001b[39m np\u001b[39m.\u001b[39masarray(x, dtype\u001b[39m=\u001b[39mnp\u001b[39m.\u001b[39mfloat64)\n\u001b[0;32m   1497\u001b[0m y \u001b[39m=\u001b[39m np\u001b[39m.\u001b[39masarray(y, dtype\u001b[39m=\u001b[39mnp\u001b[39m.\u001b[39mfloat64)\n\u001b[1;32m-> 1498\u001b[0m z \u001b[39m=\u001b[39m ma\u001b[39m.\u001b[39;49masarray(args[\u001b[39m2\u001b[39;49m], dtype\u001b[39m=\u001b[39;49mnp\u001b[39m.\u001b[39;49mfloat64)\n\u001b[0;32m   1500\u001b[0m \u001b[39mif\u001b[39;00m z\u001b[39m.\u001b[39mndim \u001b[39m!=\u001b[39m \u001b[39m2\u001b[39m:\n\u001b[0;32m   1501\u001b[0m     \u001b[39mraise\u001b[39;00m \u001b[39mTypeError\u001b[39;00m(\u001b[39mf\u001b[39m\u001b[39m\"\u001b[39m\u001b[39mInput z must be 2D, not \u001b[39m\u001b[39m{\u001b[39;00mz\u001b[39m.\u001b[39mndim\u001b[39m}\u001b[39;00m\u001b[39mD\u001b[39m\u001b[39m\"\u001b[39m)\n",
      "File \u001b[1;32mc:\\Users\\Fred\\AppData\\Local\\Programs\\Python\\Python310\\lib\\site-packages\\numpy\\ma\\core.py:8003\u001b[0m, in \u001b[0;36masarray\u001b[1;34m(a, dtype, order)\u001b[0m\n\u001b[0;32m   7959\u001b[0m \u001b[39m\"\"\"\u001b[39;00m\n\u001b[0;32m   7960\u001b[0m \u001b[39mConvert the input to a masked array of the given data-type.\u001b[39;00m\n\u001b[0;32m   7961\u001b[0m \n\u001b[1;32m   (...)\u001b[0m\n\u001b[0;32m   8000\u001b[0m \n\u001b[0;32m   8001\u001b[0m \u001b[39m\"\"\"\u001b[39;00m\n\u001b[0;32m   8002\u001b[0m order \u001b[39m=\u001b[39m order \u001b[39mor\u001b[39;00m \u001b[39m'\u001b[39m\u001b[39mC\u001b[39m\u001b[39m'\u001b[39m\n\u001b[1;32m-> 8003\u001b[0m \u001b[39mreturn\u001b[39;00m masked_array(a, dtype\u001b[39m=\u001b[39;49mdtype, copy\u001b[39m=\u001b[39;49m\u001b[39mFalse\u001b[39;49;00m, keep_mask\u001b[39m=\u001b[39;49m\u001b[39mTrue\u001b[39;49;00m,\n\u001b[0;32m   8004\u001b[0m                     subok\u001b[39m=\u001b[39;49m\u001b[39mFalse\u001b[39;49;00m, order\u001b[39m=\u001b[39;49morder)\n",
      "File \u001b[1;32mc:\\Users\\Fred\\AppData\\Local\\Programs\\Python\\Python310\\lib\\site-packages\\numpy\\ma\\core.py:2826\u001b[0m, in \u001b[0;36mMaskedArray.__new__\u001b[1;34m(cls, data, mask, dtype, copy, subok, ndmin, fill_value, keep_mask, hard_mask, shrink, order)\u001b[0m\n\u001b[0;32m   2817\u001b[0m \u001b[39m\"\"\"\u001b[39;00m\n\u001b[0;32m   2818\u001b[0m \u001b[39mCreate a new masked array from scratch.\u001b[39;00m\n\u001b[0;32m   2819\u001b[0m \n\u001b[1;32m   (...)\u001b[0m\n\u001b[0;32m   2823\u001b[0m \n\u001b[0;32m   2824\u001b[0m \u001b[39m\"\"\"\u001b[39;00m\n\u001b[0;32m   2825\u001b[0m \u001b[39m# Process data.\u001b[39;00m\n\u001b[1;32m-> 2826\u001b[0m _data \u001b[39m=\u001b[39m np\u001b[39m.\u001b[39;49marray(data, dtype\u001b[39m=\u001b[39;49mdtype, copy\u001b[39m=\u001b[39;49mcopy,\n\u001b[0;32m   2827\u001b[0m                  order\u001b[39m=\u001b[39;49morder, subok\u001b[39m=\u001b[39;49m\u001b[39mTrue\u001b[39;49;00m, ndmin\u001b[39m=\u001b[39;49mndmin)\n\u001b[0;32m   2828\u001b[0m _baseclass \u001b[39m=\u001b[39m \u001b[39mgetattr\u001b[39m(data, \u001b[39m'\u001b[39m\u001b[39m_baseclass\u001b[39m\u001b[39m'\u001b[39m, \u001b[39mtype\u001b[39m(_data))\n\u001b[0;32m   2829\u001b[0m \u001b[39m# Check that we're not erasing the mask.\u001b[39;00m\n",
      "\u001b[1;31mValueError\u001b[0m: setting an array element with a sequence."
     ]
    },
    {
     "data": {
      "image/png": "[encoded data removed]",
      "text/plain": [
       "<Figure size 640x480 with 1 Axes>"
      ]
     },
     "metadata": {},
     "output_type": "display_data"
    }
   ],
   "source": [
    "fig3 = plt.figure(3)\n",
    "plt.contour(theta0, theta1, np.transpose(J))\n",
    "plt.plot(thetaHist[:,0], thetaHist[:,1], 'x')\n",
    "ax.set_xlabel('theta 0')\n",
    "ax.set_ylabel('theta 1')\n",
    "\n",
    "# Finally, let's plot the hypothesis function into our data\n",
    "xs = np.array([x[0,1], x[x.shape[0]-1,1]])\n",
    "h = np.array([[thet[1] * xs[0] + thet[0]], [thet[1] * xs[1] + thet[0]]])\n",
    "plt.figure(1)\n",
    "plt.plot(x[:,1], y, 'x')  # Data\n",
    "plt.plot(xs, h, '-o')     # hypothesis function\n",
    "plt.show()"
   ]
  }
 ],
 "metadata": {
  "colab": {
   "authorship_tag": "ABX9TyMj3lnx6l1he2CUNg1xIsQJ",
   "collapsed_sections": [],
   "name": "LinearRegression.ipynb",
   "provenance": []
  },
  "kernelspec": {
   "display_name": "Python 3 (ipykernel)",
   "language": "python",
   "name": "python3"
  },
  "language_info": {
   "codemirror_mode": {
    "name": "ipython",
    "version": 3
   },
   "file_extension": ".py",
   "mimetype": "text/x-python",
   "name": "python",
   "nbconvert_exporter": "python",
   "pygments_lexer": "ipython3",
   "version": "3.10.7"
  },
  "vscode": {
   "interpreter": {
    "hash": "2b87d9ab856f2aa4ce624520688f5100119f650861acf672fa7a35391340817c"
   }
  }
 },
 "nbformat": 4,
 "nbformat_minor": 1
}
