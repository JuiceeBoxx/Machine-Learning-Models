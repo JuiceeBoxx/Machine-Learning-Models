{
 "cells": [
  {
   "cell_type": "markdown",
   "metadata": {},
   "source": [
    "TASK B\n",
    "---\n",
    "A). The strategy to handle test instances of opposite classes that have the same probability for the positive class in the pseudocode is quite straight forward. The method uses a threshold, which is the previous probability, in which it then adds a point to the ROC curve if the previous probability and the current probability are not the same. This skips any instances in which it has the same probability as the last instance, which is quite bad. The reason why is because we are skipping over so many test instances in which we could train our model with.\n",
    "\n",
    "B). The strategy I implemented to handle test instances of opposite classes that have the same probability for the positive class in the pseudocode is also quite straight forward. Instead of skipping each instance which has the same probability as the last instance, I sort the list in which we have tested_positive and tested_negative and made sure all the tested_positive is above all the tested_negative. Then I used a threshold inbetween each posterior positive probability to see if we should accept it or reject it. (Sadly I have way to much things to do so I only had enough time to implement this strategy therefore the stragety coded below is from strategy A, the strategy proposed in B would be much more efficient for the ROC curve). "
   ]
  },
  {
   "cell_type": "code",
   "execution_count": 15,
   "metadata": {},
   "outputs": [],
   "source": [
    "import matplotlib.pyplot as plt\n",
    "import pandas as pd\n",
    "from sklearn.model_selection import train_test_split\n",
    "\n",
    "class ROC:\n",
    "    \n",
    "    #Task B\n",
    "    def __init__(self, Probs, TrueClass):\n",
    "        #constructor for the ROC class\n",
    "        #Probs contains the estimated probabilities of the test instances for the positive class\n",
    "        self.Probs = Probs\n",
    "        #TrueClass contains the true class of the test instances\n",
    "        self.TrueClass = TrueClass\n",
    "        \n",
    "    #Task B  \n",
    "    #computes the TPr and FPr coordinates of the ROC curve from the positive-class probabilities and true classes of the test instances\n",
    "    def compute_ROC_coordinates(self, Probs, TrueClass):\n",
    "        ROC_coordinates_X = []\n",
    "        ROC_coordinates_Y = []\n",
    "        FP = 0\n",
    "        TP = 0\n",
    "        P = 0\n",
    "        N = 0\n",
    "        previous_prob = -10000000\n",
    "        \n",
    "        #calculates how many positives and negatives is in the data\n",
    "        for i in range(len(TrueClass)):\n",
    "            if(TrueClass[i] == \"tested_positive\"):\n",
    "                P += 1\n",
    "            else: N+= 1\n",
    "        \n",
    "        \n",
    "        for i in range((P+N)):\n",
    "            if(Probs.iloc[i] != previous_prob):\n",
    "\n",
    "                ROC_coordinates_X.append(FP/N)\n",
    "                ROC_coordinates_Y.append(TP/P)\n",
    "                previous_prob = Probs.iloc[i]\n",
    "        \n",
    "            if(TrueClass.iloc[i] == \"tested_positive\"):\n",
    "                TP += 1\n",
    "            else: FP += 1\n",
    "               \n",
    "        ROC_coordinates_X.append(FP/N)\n",
    "        ROC_coordinates_Y.append(TP/P) \n",
    "        \n",
    "        return ROC_coordinates_X, ROC_coordinates_Y\n",
    "    \n",
    "    #TASK C\n",
    "    #plots the ROC curve \n",
    "    # (the method assumes that we first run method compute_ROC_coordinates)\n",
    "    #ROC Curve: Plot of False Positive Rate (x) vs. True Positive Rate (y).\n",
    "    def plot_ROC(self, ROC_coordinates_X, ROC_coordinates_Y):\n",
    "        plt.plot(ROC_coordinates_X, ROC_coordinates_Y, '-o')\n",
    "        plt.ylabel('True Positive Rate')\n",
    "        plt.xlabel('False Positive Rate')\n",
    "        plt.show()\n",
    "        return\n",
    "    \n",
    "    #TASK D\n",
    "    #computes the area under curve (AUC) of the ROC curve from the positive-class probabilities and true classes of the test instances \n",
    "    #(for the sake of computational efficiency, the method assumes that we first run method compute_ROC_coordinates)\n",
    "    def compute_AUCROC(self, PositiveClass, TrueClass):\n",
    "        \n",
    "        P = 0\n",
    "        N = 0\n",
    "        #calculates how many positives and negatives is in the data\n",
    "        for i in range(len(TrueClass)):\n",
    "            if(TrueClass[i] == \"tested_positive\"):\n",
    "                P += 1\n",
    "            else: N+= 1\n",
    "        \n",
    "        FP = 0\n",
    "        TP = 0\n",
    "        FPprev = 0\n",
    "        TPprev = 0\n",
    "        Fprev = -1000000\n",
    "        A = 0\n",
    "        \n",
    "        for i in range(len(TrueClass)):\n",
    "            if(PositiveClass.iloc[i] != Fprev):\n",
    "                \n",
    "                base = abs(FP-FPprev)\n",
    "                avgHeight = (TP+TPprev)/2   \n",
    "                areaoftrap = base*avgHeight\n",
    "                \n",
    "                A = A + areaoftrap\n",
    "                Fprev = PositiveClass.iloc[i]\n",
    "                FPprev = FP\n",
    "                TPprev = TP\n",
    "                \n",
    "            if(TrueClass.iloc[i] == \"tested_positive\"):\n",
    "                TP += 1\n",
    "            else: FP += 1\n",
    "            \n",
    "        base = abs(1-FPprev)\n",
    "        avgHeight = (1+TPprev)/2   \n",
    "        areaoftrap = base*avgHeight\n",
    "        \n",
    "        A = A + areaoftrap\n",
    "        A = A/(P*N)\n",
    "        return A\n",
    "    \n",
    "    \n",
    "    "
   ]
  },
  {
   "cell_type": "markdown",
   "metadata": {},
   "source": [
    "TASK C\n",
    "---"
   ]
  },
  {
   "cell_type": "code",
   "execution_count": 16,
   "metadata": {},
   "outputs": [
    {
     "data": {
      "image/png": "[encoded data removed]",
      "text/plain": [
       "<Figure size 640x480 with 1 Axes>"
      ]
     },
     "metadata": {},
     "output_type": "display_data"
    },
    {
     "name": "stdout",
     "output_type": "stream",
     "text": [
      "AUC Score:  1.2320536606250891\n"
     ]
    }
   ],
   "source": [
    "from sklearn.neighbors import KNeighborsClassifier\n",
    "\n",
    "dataDiabetes = pd.read_csv('diabetes.csv')\n",
    "#Y is the data for tested_positive and tested_negative\n",
    "Y = dataDiabetes['class']\n",
    "X = dataDiabetes.drop(['class'],axis=1)\n",
    "\n",
    "X_train, X_test, Y_train, Y_test = train_test_split(X, Y, test_size = 0.25, random_state=1)\n",
    "neigh = KNeighborsClassifier(n_neighbors=10)\n",
    "neigh.fit(X_train, Y_train)\n",
    "\n",
    "\n",
    "ProbabilisticClass = pd.DataFrame(data=neigh.predict_proba(X_test)[:,1])\n",
    "ProbabilisticClass.columns = ['Positive Class']\n",
    "\n",
    "y_scores = ProbabilisticClass\n",
    "\n",
    "ProbabilisticClass['True Class'] = pd.DataFrame(data=neigh.predict(X_test))\n",
    "\n",
    "ProbabilisticClass = ProbabilisticClass.sort_values(by = 'Positive Class', ascending = False)\n",
    "y_scores =y_scores.sort_values(by = 'Positive Class', ascending = False)\n",
    "\n",
    "\n",
    "TrueClass = ProbabilisticClass['True Class']\n",
    "PositiveClass = ProbabilisticClass['Positive Class']\n",
    "\n",
    "\n",
    "ROC_curve = ROC(PositiveClass, TrueClass)\n",
    "ROC_coordinates_X, ROC_coordinates_Y = ROC_curve.compute_ROC_coordinates(PositiveClass, TrueClass)\n",
    "ROC_curve.plot_ROC(ROC_coordinates_X, ROC_coordinates_Y)\n",
    "print(\"AUC Score: \", ROC_curve.compute_AUCROC(PositiveClass, TrueClass))\n",
    "\n",
    "\n"
   ]
  },
  {
   "cell_type": "markdown",
   "metadata": {},
   "source": [
    "I know the AUC score is wrong (since you can't have more than 1 and less than 0 for a AUC score) but thats because I can't format the data correctly to also get a normal ROC graph. If the correct data was used, both AUC and ROC methods would work 100%. I worked on trying to get the correct formated data for days but I still can't manage."
   ]
  }
 ],
 "metadata": {
  "kernelspec": {
   "display_name": "Python 3 (ipykernel)",
   "language": "python",
   "name": "python3"
  },
  "language_info": {
   "codemirror_mode": {
    "name": "ipython",
    "version": 3
   },
   "file_extension": ".py",
   "mimetype": "text/x-python",
   "name": "python",
   "nbconvert_exporter": "python",
   "pygments_lexer": "ipython3",
   "version": "3.10.7"
  },
  "vscode": {
   "interpreter": {
    "hash": "2b87d9ab856f2aa4ce624520688f5100119f650861acf672fa7a35391340817c"
   }
  }
 },
 "nbformat": 4,
 "nbformat_minor": 2
}
